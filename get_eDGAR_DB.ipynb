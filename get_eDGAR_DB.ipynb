{
  "nbformat": 4,
  "nbformat_minor": 0,
  "metadata": {
    "colab": {
      "provenance": [],
      "collapsed_sections": [
        "H-914PyVMcBg"
      ],
      "authorship_tag": "ABX9TyPxL5PZkh9t5xWqzD4D7YxS",
      "include_colab_link": true
    },
    "kernelspec": {
      "name": "python3",
      "display_name": "Python 3"
    },
    "language_info": {
      "name": "python"
    }
  },
  "cells": [
    {
      "cell_type": "markdown",
      "metadata": {
        "id": "view-in-github",
        "colab_type": "text"
      },
      "source": [
        "<a href=\"https://colab.research.google.com/github/FouadAIAzar/Flurine/blob/main/get_eDGAR_DB.ipynb\" target=\"_parent\"><img src=\"https://colab.research.google.com/assets/colab-badge.svg\" alt=\"Open In Colab\"/></a>"
      ]
    },
    {
      "cell_type": "markdown",
      "source": [
        "# Get a Database, like eDGAR"
      ],
      "metadata": {
        "id": "GcJtHaosEACP"
      }
    },
    {
      "cell_type": "code",
      "source": [
        "# Importing the required modules\n",
        "import os\n",
        "import sys\n",
        "import requests\n",
        "import pandas as pd\n",
        "import numpy as np\n",
        "from bs4 import BeautifulSoup"
      ],
      "metadata": {
        "id": "bU4AYv44XQsr"
      },
      "execution_count": null,
      "outputs": []
    },
    {
      "cell_type": "code",
      "execution_count": null,
      "metadata": {
        "id": "AOesUmtxSeIE"
      },
      "outputs": [],
      "source": [
        "# Get Table from eDGAR\n",
        "URL = \"http://edgar.biocomp.unibo.it/cgi-bin/gene_disease_db/main_table.py\"\n",
        "  \n",
        "# sending get request and saving the response as r\n",
        "r = requests.get(url = URL)\n",
        "with open('./response.html', 'wb+') as f:\n",
        "    f.write(r.content)"
      ]
    },
    {
      "cell_type": "code",
      "source": [
        "## Convert HTML table to .csv\n",
        "\n",
        "path = 'response.html'\n",
        "  \n",
        "# Create an empty list\n",
        "data = []\n",
        "\n",
        "# the HTML file\n",
        "header = [] # <th></th> attribute\n",
        "sp = BeautifulSoup(open(path),'html.parser')\n",
        "tableRow = sp.find_all(\"table\")[0].find(\"tr\") # find table rows\n",
        " \n",
        "for i in tableRow:\n",
        "    try:\n",
        "        header.append(i.get_text())\n",
        "    except:\n",
        "        continue\n",
        " \n",
        "# for getting the data\n",
        "HTML_data = sp.find_all(\"table\")[0].find_all(\"tr\")[1:]\n",
        " \n",
        "for i in HTML_data:\n",
        "    sub = []\n",
        "    for j in i:\n",
        "        try:\n",
        "            sub.append(j.get_text())\n",
        "        except:\n",
        "            continue\n",
        "    data.append(sub)\n",
        "\n",
        "# Store the results in pd's DataFrame for SQL processing\n",
        "df = pd.DataFrame(data = data, columns = header)\n",
        "  \n",
        "# convert into DataFrame into CSV\n",
        "df.to_csv('disease2gene.csv')"
      ],
      "metadata": {
        "id": "G5M4vaZnUZ4k"
      },
      "execution_count": null,
      "outputs": []
    },
    {
      "cell_type": "markdown",
      "source": [
        "# Look up a disease in eDGAR"
      ],
      "metadata": {
        "id": "ykp2MUh6EKdA"
      }
    },
    {
      "cell_type": "code",
      "source": [
        "term = \"KERATOCONUS\" # Change to desired diesease name\n",
        "rows = df[df['Disease Name'].str.contains(term)] # All rows of desired disease \n",
        "\n",
        "if rows.empty:\n",
        "  print(\"No genes found\")\n",
        "else:\n",
        "  print(rows)\n",
        "\n",
        "genes = rows.iloc[:,0].values # collect all genes associated\n",
        "\n",
        "print(genes)"
      ],
      "metadata": {
        "colab": {
          "base_uri": "https://localhost:8080/"
        },
        "id": "RV_ZmuflEJ9r",
        "outputId": "652c40e3-5f9f-4193-cf73-0124326e7cee"
      },
      "execution_count": null,
      "outputs": [
        {
          "output_type": "stream",
          "name": "stdout",
          "text": [
            "    Gene Name   Disease Name  Disease ID                   Database\n",
            "1       VSX1    KERATOCONUS    PS148300    ClinVar, OMIM, HUMSAVAR \n",
            "593   ZNF469    KERATOCONUS    PS148300                    ClinVar \n",
            "[' VSX1 ' ' ZNF469 ']\n"
          ]
        }
      ]
    },
    {
      "cell_type": "markdown",
      "source": [
        "# Query FASTA gene sequence from NCBI"
      ],
      "metadata": {
        "id": "TMYBhW6-ID-0"
      }
    },
    {
      "cell_type": "code",
      "source": [
        "import requests\n",
        "import json\n",
        "from pandas import json_normalize\n",
        "\n",
        "def fetch_gene_seq(genes: str) -> list:\n",
        "  results = pd.DataFrame()  \n",
        "  for g in genes:\n",
        "    url=f\"https://clinicaltables.nlm.nih.gov/api/ncbi_genes/v3/search?terms={genes}\"\n",
        "    response = json_normalize(requests.request(\"GET\",url))\n",
        "    results.append(response)\n",
        "    return results\n",
        "\n"
      ],
      "metadata": {
        "id": "D8oPbETeIMbI"
      },
      "execution_count": null,
      "outputs": []
    },
    {
      "cell_type": "code",
      "source": [
        "# Figure out a way to grab gene sequence from NCBI "
      ],
      "metadata": {
        "id": "iAK1I989RHkx"
      },
      "execution_count": null,
      "outputs": []
    },
    {
      "cell_type": "markdown",
      "source": [
        "# Translating Gene Sequence by without Biopython"
      ],
      "metadata": {
        "id": "H-914PyVMcBg"
      }
    },
    {
      "cell_type": "code",
      "source": [
        "inputfile = 'dna.txt'\n",
        "f = open(inputfile, \"r\")\n",
        "dna = f.read()\n",
        "dna = dna.replace(\"\\n\", \"\")\n",
        "dna = dna.replace(\"\\r\", \"\")\n",
        "table = {\n",
        "'ATA':'I', 'ATC':'I', 'ATT':'I', 'ATG':'M',\n",
        "'ACA':'T', 'ACC':'T', 'ACG':'T', 'ACT':'T',\n",
        "'AAC':'N', 'AAT':'N', 'AAA':'K', 'AAG':'K',\n",
        "'AGC':'S', 'AGT':'S', 'AGA':'R', 'AGG':'R',\n",
        "'CTA':'L', 'CTC':'L', 'CTG':'L', 'CTT':'L',\n",
        "'CCA':'P', 'CCC':'P', 'CCG':'P', 'CCT':'P',\n",
        "'CAC':'H', 'CAT':'H', 'CAA':'Q', 'CAG':'Q',\n",
        "'CGA':'R', 'CGC':'R', 'CGG':'R', 'CGT':'R',\n",
        "'GTA':'V', 'GTC':'V', 'GTG':'V', 'GTT':'V',\n",
        "'GCA':'A', 'GCC':'A', 'GCG':'A', 'GCT':'A',\n",
        "'GAC':'D', 'GAT':'D', 'GAA':'E', 'GAG':'E',\n",
        "'GGA':'G', 'GGC':'G', 'GGG':'G', 'GGT':'G',\n",
        "'TCA':'S', 'TCC':'S', 'TCG':'S', 'TCT':'S',\n",
        "'TTC':'F', 'TTT':'F', 'TTA':'L', 'TTG':'L',\n",
        "'TAC':'Y', 'TAT':'Y', 'TAA':'_', 'TAG':'_',\n",
        "'TGC':'C', 'TGT':'C', 'TGA':'_', 'TGG':'W'}"
      ],
      "metadata": {
        "id": "Plnr4rO6wRIp"
      },
      "execution_count": null,
      "outputs": []
    },
    {
      "cell_type": "code",
      "source": [
        "def translate (dna, table):\n",
        "  \"\"\"Translate a string containing a nucleotide sequence into a string\n",
        "  containing the corresponding sequence of amino acids. Nucleotides are\n",
        "  tranlated in triplets using the table dictionary; each amino acid\n",
        "  is encoded with a string of length 1.\"\"\"\n",
        "  polypeptide = \"\"\n",
        "  # Check the sequence length is divisible by 3\n",
        "  if len(dna) % 3 == 0:\n",
        "    # Loop over the sequence\n",
        "    for i in range (0, len(dna), 3):\n",
        "      # extract a single codon\n",
        "      codon = dna [i : i+3]\n",
        "      # look up the codon and store the result\n",
        "      polypeptide += table[codon]\n",
        "  return polypeptide"
      ],
      "metadata": {
        "id": "aVvce61cLSNL"
      },
      "execution_count": null,
      "outputs": []
    },
    {
      "cell_type": "code",
      "source": [
        "translate (dna[20:935], table)"
      ],
      "metadata": {
        "id": "QvCBfUUQLu5H"
      },
      "execution_count": null,
      "outputs": []
    },
    {
      "cell_type": "markdown",
      "source": [
        "# Translating DNA using Biopython"
      ],
      "metadata": {
        "id": "EQYzwlO9RWEZ"
      }
    },
    {
      "cell_type": "code",
      "source": [
        "# Install biopython\n",
        "%%capture\n",
        "!pip install biopython"
      ],
      "metadata": {
        "id": "Cl4grjuEPgaP"
      },
      "execution_count": null,
      "outputs": []
    },
    {
      "cell_type": "code",
      "source": [
        "# Import libs\n",
        "import Bio\n",
        "from Bio.Seq import Seq"
      ],
      "metadata": {
        "id": "-gTdOGmdOKI5"
      },
      "execution_count": null,
      "outputs": []
    },
    {
      "cell_type": "code",
      "source": [
        "# Coding DNA 2 Polypeptide translation \n",
        "coding_dna = Seq(dna)\n",
        "polypeptide = coding_dna.translate()"
      ],
      "metadata": {
        "id": "MRxL5z1hQM_C"
      },
      "execution_count": null,
      "outputs": []
    },
    {
      "cell_type": "markdown",
      "source": [
        "# Sending AA sequence to Alpha Fold for 3D folding"
      ],
      "metadata": {
        "id": "9dbYEtMWRoEZ"
      }
    },
    {
      "cell_type": "code",
      "source": [],
      "metadata": {
        "id": "0wUz6MtARuBS"
      },
      "execution_count": null,
      "outputs": []
    }
  ]
}