{
  "nbformat": 4,
  "nbformat_minor": 0,
  "metadata": {
    "colab": {
      "provenance": [],
      "collapsed_sections": [],
      "toc_visible": true,
      "authorship_tag": "ABX9TyNDG9JKByIqS2ZcN05JvHu3",
      "include_colab_link": true
    },
    "kernelspec": {
      "name": "python3",
      "display_name": "Python 3"
    },
    "language_info": {
      "name": "python"
    }
  },
  "cells": [
    {
      "cell_type": "markdown",
      "metadata": {
        "id": "view-in-github",
        "colab_type": "text"
      },
      "source": [
        "<a href=\"https://colab.research.google.com/github/FouadAIAzar/Flurine/blob/main/get_eDGAR_DB.ipynb\" target=\"_parent\"><img src=\"https://colab.research.google.com/assets/colab-badge.svg\" alt=\"Open In Colab\"/></a>"
      ]
    },
    {
      "cell_type": "markdown",
      "source": [
        "# Get a Database, like eDGAR"
      ],
      "metadata": {
        "id": "GcJtHaosEACP"
      }
    },
    {
      "cell_type": "code",
      "source": [
        "# Importing the required modules\n",
        "import os\n",
        "import sys\n",
        "import requests\n",
        "import pandas as pd\n",
        "import numpy as np\n",
        "from bs4 import BeautifulSoup"
      ],
      "metadata": {
        "id": "bU4AYv44XQsr"
      },
      "execution_count": 20,
      "outputs": []
    },
    {
      "cell_type": "code",
      "execution_count": 2,
      "metadata": {
        "id": "AOesUmtxSeIE"
      },
      "outputs": [],
      "source": [
        "# Get Table from eDGAR\n",
        "URL = \"http://edgar.biocomp.unibo.it/cgi-bin/gene_disease_db/main_table.py\"\n",
        "  \n",
        "# sending get request and saving the response as r\n",
        "r = requests.get(url = URL)\n",
        "with open('./response.html', 'wb+') as f:\n",
        "    f.write(r.content)"
      ]
    },
    {
      "cell_type": "code",
      "source": [
        "## Convert HTML table to .csv\n",
        "\n",
        "path = 'response.html'\n",
        "  \n",
        "# Create an empty list\n",
        "data = []\n",
        "\n",
        "# the HTML file\n",
        "header = [] # <th></th> attribute\n",
        "sp = BeautifulSoup(open(path),'html.parser')\n",
        "tableRow = sp.find_all(\"table\")[0].find(\"tr\") # find table rows\n",
        " \n",
        "for i in tableRow:\n",
        "    try:\n",
        "        header.append(i.get_text())\n",
        "    except:\n",
        "        continue\n",
        " \n",
        "# for getting the data\n",
        "HTML_data = sp.find_all(\"table\")[0].find_all(\"tr\")[1:]\n",
        " \n",
        "for i in HTML_data:\n",
        "    sub = []\n",
        "    for j in i:\n",
        "        try:\n",
        "            sub.append(j.get_text())\n",
        "        except:\n",
        "            continue\n",
        "    data.append(sub)\n",
        "\n",
        "# Store the results in pd's DataFrame for SQL processing\n",
        "df = pd.DataFrame(data = data, columns = header)\n",
        "  \n",
        "# convert into DataFrame into CSV\n",
        "df.to_csv('disease2gene.csv')"
      ],
      "metadata": {
        "id": "G5M4vaZnUZ4k"
      },
      "execution_count": 5,
      "outputs": []
    },
    {
      "cell_type": "markdown",
      "source": [
        "# Look up a disease in eDGAR"
      ],
      "metadata": {
        "id": "ykp2MUh6EKdA"
      }
    },
    {
      "cell_type": "code",
      "source": [
        "term = \"KERATOCONUS\"\n",
        "rows = df[df['Disease Name'].str.contains(term)]\n",
        "if rows.empty:\n",
        "  print(\"No genes found\")\n",
        "else:\n",
        "  print(rows)\n",
        "\n",
        "genes = row.iloc[:,0].values # array of gene asociated\n",
        "\n",
        "print(genes)"
      ],
      "metadata": {
        "colab": {
          "base_uri": "https://localhost:8080/"
        },
        "id": "RV_ZmuflEJ9r",
        "outputId": "c95c5569-efc5-48a7-8bdd-d9b589393d2f"
      },
      "execution_count": 23,
      "outputs": [
        {
          "output_type": "stream",
          "name": "stdout",
          "text": [
            "    Gene Name   Disease Name  Disease ID                   Database\n",
            "1       VSX1    KERATOCONUS    PS148300    ClinVar, OMIM, HUMSAVAR \n",
            "593   ZNF469    KERATOCONUS    PS148300                    ClinVar \n",
            "[' VSX1 ' ' ZNF469 ']\n"
          ]
        }
      ]
    },
    {
      "cell_type": "markdown",
      "source": [
        "# Query FASTA gene sequence from NCBI"
      ],
      "metadata": {
        "id": "TMYBhW6-ID-0"
      }
    },
    {
      "cell_type": "code",
      "source": [
        "import requests\n",
        "import json\n",
        "from pandas import json_normalize\n",
        "\n",
        "def fetch_gene_seq(genes: str) -> list:\n",
        "  results = pd.DataFrame()  \n",
        "  for g in genes:\n",
        "    url=f\"https://clinicaltables.nlm.nih.gov/api/ncbi_genes/v3/search?terms={genes}\"\n",
        "    response = json_normalize(requests.request(\"GET\",url))\n",
        "    results.append(response)\n",
        "    return results\n",
        "\n"
      ],
      "metadata": {
        "id": "D8oPbETeIMbI"
      },
      "execution_count": 77,
      "outputs": []
    },
    {
      "cell_type": "code",
      "source": [
        "test = fetch_gene_seq(genes)\n",
        "\n",
        "print(test)"
      ],
      "metadata": {
        "id": "Plnr4rO6wRIp",
        "colab": {
          "base_uri": "https://localhost:8080/"
        },
        "outputId": "9f4903bb-efb7-4d81-e6a7-f5942c60c199"
      },
      "execution_count": 78,
      "outputs": [
        {
          "output_type": "stream",
          "name": "stdout",
          "text": [
            "Empty DataFrame\n",
            "Columns: []\n",
            "Index: []\n"
          ]
        }
      ]
    },
    {
      "cell_type": "code",
      "source": [
        "url=f\"https://clinicaltables.nlm.nih.gov/api/ncbi_genes/v3/search?terms=FBLN5\"\n",
        "response = requests.request(\"GET\",url)\n",
        "print(response.json())"
      ],
      "metadata": {
        "colab": {
          "base_uri": "https://localhost:8080/"
        },
        "id": "HK1nh2kMVgzg",
        "outputId": "8764636a-37db-4cf5-ce60-34454ed0d4e2"
      },
      "execution_count": 76,
      "outputs": [
        {
          "output_type": "stream",
          "name": "stdout",
          "text": [
            "[1, ['HGNC:3602'], None, [['HGNC-Symb', 'HGNC:3602', '14', 'FBLN5', 'fibulin 5', 'protein-coding']], ['HGNC-Symb']]\n"
          ]
        }
      ]
    }
  ]
}